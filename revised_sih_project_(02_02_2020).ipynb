{
  "nbformat": 4,
  "nbformat_minor": 0,
  "metadata": {
    "colab": {
      "name": "revised sih project (02/02/2020)",
      "provenance": [],
      "collapsed_sections": [],
      "toc_visible": true
    },
    "kernelspec": {
      "name": "python3",
      "display_name": "Python 3"
    },
    "accelerator": "GPU"
  },
  "cells": [
    {
      "cell_type": "markdown",
      "metadata": {
        "id": "-Pj_p7keBqPD",
        "colab_type": "text"
      },
      "source": [
        "To mount the drive to colab, if you dont want to use colab skip this step and the next step."
      ]
    },
    {
      "cell_type": "code",
      "metadata": {
        "id": "Go8APqxNBoZp",
        "colab_type": "code",
        "colab": {
          "base_uri": "https://localhost:8080/",
          "height": 34
        },
        "outputId": "db2e1efa-be0a-456e-ba81-8bc9aee7dfe2"
      },
      "source": [
        "from google.colab import drive\n",
        "drive.mount('/content/drive')"
      ],
      "execution_count": 1,
      "outputs": [
        {
          "output_type": "stream",
          "text": [
            "Mounted at /content/drive\n"
          ],
          "name": "stdout"
        }
      ]
    },
    {
      "cell_type": "markdown",
      "metadata": {
        "id": "VS2bQ_E1BZFv",
        "colab_type": "text"
      },
      "source": [
        "This is to unzip the file in drive(run this only once or if your drive has a unzipped file)"
      ]
    },
    {
      "cell_type": "code",
      "metadata": {
        "id": "DigvoXK-CNYO",
        "colab_type": "code",
        "colab": {}
      },
      "source": [
        "!unzip \"/content/drive/My Drive/traffic_signs/zipped.zip\""
      ],
      "execution_count": null,
      "outputs": []
    },
    {
      "cell_type": "markdown",
      "metadata": {
        "id": "GCLFEB34C-LU",
        "colab_type": "text"
      },
      "source": [
        "These are all the imports"
      ]
    },
    {
      "cell_type": "code",
      "metadata": {
        "colab_type": "code",
        "id": "M2_wx38YtpWQ",
        "colab": {}
      },
      "source": [
        "import numpy as np # linear algebra\n",
        "import pandas as pd # data processing, CSV file I/O (e.g. pd.read_csv)\n",
        "import pickle\n",
        "import matplotlib.pyplot as plt\n",
        "from math import sqrt, ceil\n",
        "from timeit import default_timer as timer\n",
        "import random\n",
        "from keras.utils.np_utils import to_categorical\n",
        "from keras.models import Sequential\n",
        "from keras.layers import Dense, Dropout, Flatten, Conv2D, MaxPool2D, BatchNormalization, Reshape\n",
        "from keras.preprocessing.image import ImageDataGenerator\n",
        "from sklearn.model_selection import train_test_split\n",
        "from keras.callbacks import LearningRateScheduler\n",
        "from keras import backend as K\n",
        "import os\n",
        "import cv2"
      ],
      "execution_count": 3,
      "outputs": []
    },
    {
      "cell_type": "markdown",
      "metadata": {
        "id": "Dg2coc4nDhJs",
        "colab_type": "text"
      },
      "source": [
        "This part of the code loads and preprosses the data . images is a numpy ndarray that takes in all the images of all labels, Notice that ive used 13 labels and not 43. I have created my own dataset and appended it to the original dataset. (to see how i did that see my preprosing.ipynb file) "
      ]
    },
    {
      "cell_type": "code",
      "metadata": {
        "colab_type": "code",
        "id": "pM14yWMvtpWM",
        "colab": {}
      },
      "source": [
        "path = \"/content/drive/My Drive/traffic_signs/datasets\" # folder with all the class folders\n",
        "labelFile = 'labels.csv' # file with all names of classes\n",
        "count = 0\n",
        "images = []\n",
        "classNo = []\n",
        "myList = os.listdir(path)\n",
        "print(\"Total Classes Detected:\",len(myList))\n",
        "noOfClasses=len(myList)\n",
        "print(\"Importing Classes.....\")\n",
        "for x in range (0,len(myList)):\n",
        "    myPicList = os.listdir(path+\"/\"+str(count))\n",
        "    for y in myPicList:\n",
        "        curImg = cv2.imread(path+\"/\"+str(count)+\"/\"+y)\n",
        "        grayImage = cv2.cvtColor(curImg, cv2.COLOR_BGR2GRAY)\n",
        "        #cv2.normalize(grayImage, grayImage, 0, 255, cv2.NORM_MINMAX)\n",
        "        grayImage =cv2.equalizeHist(grayImage)\n",
        "        images.append(grayImage)\n",
        "        classNo.append(count)\n",
        "    print(count, end =\" \")\n",
        "    count +=1\n",
        "print(\" \")\n",
        "images = np.array(images)\n",
        "classNo = np.array(classNo)"
      ],
      "execution_count": null,
      "outputs": []
    },
    {
      "cell_type": "markdown",
      "metadata": {
        "id": "GaN-B0kTI7tp",
        "colab_type": "text"
      },
      "source": [
        "To shuffle the dataset"
      ]
    },
    {
      "cell_type": "code",
      "metadata": {
        "id": "awjxzrWGFvtq",
        "colab_type": "code",
        "colab": {}
      },
      "source": [
        "np.random.seed(0)\n",
        "np.random.shuffle(images)\n",
        "np.random.seed(0)\n",
        "np.random.shuffle(classNo)"
      ],
      "execution_count": null,
      "outputs": []
    },
    {
      "cell_type": "code",
      "metadata": {
        "id": "IHNk_nImDzYp",
        "colab_type": "code",
        "colab": {}
      },
      "source": [
        "To check our loaded dataset"
      ],
      "execution_count": null,
      "outputs": []
    },
    {
      "cell_type": "code",
      "metadata": {
        "id": "lZKtHdlzDwsd",
        "colab_type": "code",
        "colab": {
          "base_uri": "https://localhost:8080/",
          "height": 337
        },
        "outputId": "74ff0dea-9e08-493e-81ed-a95c635a32a1"
      },
      "source": [
        "import matplotlib.pyplot as plt\n",
        "import matplotlib.image as mpimg\n",
        "#for i in range(10):\n",
        "imgplot = plt.imshow(images[5])\n",
        "print(classNo[5])\n",
        "print(images.shape)\n",
        "print(classNo.shape)\n",
        "print(images[0].shape,images[0].min(),images[0].max())"
      ],
      "execution_count": null,
      "outputs": [
        {
          "output_type": "stream",
          "text": [
            "8\n",
            "(13928, 32, 32)\n",
            "(13928,)\n",
            "(32, 32) 0 255\n"
          ],
          "name": "stdout"
        },
        {
          "output_type": "display_data",
          "data": {
            "image/png": "[encoded data removed]",
            "text/plain": [
              "<Figure size 432x288 with 1 Axes>"
            ]
          },
          "metadata": {
            "tags": []
          }
        }
      ]
    },
    {
      "cell_type": "markdown",
      "metadata": {
        "id": "mTTaP5pOD5X0",
        "colab_type": "text"
      },
      "source": [
        "To split our dataset into three parts,\n",
        "train-80%,\n",
        "validation-20%,\n",
        "test-20%. \n",
        "Since we didnt normalize all the images before, we are normalizing it and checking our dataset"
      ]
    },
    {
      "cell_type": "code",
      "metadata": {
        "id": "hb8f6akUGNuc",
        "colab_type": "code",
        "colab": {
          "base_uri": "https://localhost:8080/",
          "height": 496
        },
        "outputId": "b83eded4-800a-413d-cabf-6fa2eeb21d5b"
      },
      "source": [
        "testRatio = 0.2  \n",
        "validationRatio = 0.2 \n",
        "# Split Data\n",
        "X_train, X_test, y_train, y_test = train_test_split(images, classNo, test_size=testRatio)\n",
        "X_train, X_validation, y_train, y_validation = train_test_split(X_train, y_train, test_size=validationRatio)\n",
        "\n",
        "#normalization\n",
        "X_train = X_train.astype(np.float32) / 255.0\n",
        "X_validation=X_validation.astype(np.float32) / 255.0\n",
        "X_test=X_test.astype(np.float32) / 255.0\n",
        "#checking\n",
        "print(X_train.shape)\n",
        "print(y_train.shape)\n",
        "print(X_test.shape)\n",
        "print(y_test.shape)\n",
        "print(X_validation.shape)\n",
        "print(y_validation.shape)\n",
        "imgplot = plt.imshow(X_test[5])\n",
        "print(X_test[5])"
      ],
      "execution_count": null,
      "outputs": [
        {
          "output_type": "stream",
          "text": [
            "(8913, 32, 32)\n",
            "(8913,)\n",
            "(2786, 32, 32)\n",
            "(2786,)\n",
            "(2229, 32, 32)\n",
            "(2229,)\n",
            "[[1.         1.         1.         ... 0.04313726 0.07843138 0.16470589]\n",
            " [1.         1.         1.         ... 0.03137255 0.14509805 0.15294118]\n",
            " [1.         1.         1.         ... 0.02745098 0.12156863 0.14509805]\n",
            " ...\n",
            " [0.25882354 0.26666668 0.25490198 ... 0.5137255  0.3764706  0.6117647 ]\n",
            " [0.25882354 0.20784314 0.17254902 ... 0.5529412  0.4117647  0.5254902 ]\n",
            " [0.04313726 0.03137255 0.01960784 ... 0.46666667 0.27450982 0.6117647 ]]\n"
          ],
          "name": "stdout"
        },
        {
          "output_type": "display_data",
          "data": {
            "image/png": "[encoded data removed]",
            "text/plain": [
              "<Figure size 432x288 with 1 Axes>"
            ]
          },
          "metadata": {
            "tags": []
          }
        }
      ]
    },
    {
      "cell_type": "markdown",
      "metadata": {
        "id": "MYUgv-m6EkSE",
        "colab_type": "text"
      },
      "source": [
        "We are converting our y to a label from 0-12 in decimal to one hot encoded form of the same, We are also testing the final shape"
      ]
    },
    {
      "cell_type": "code",
      "metadata": {
        "id": "34F37Ob7wegL",
        "colab_type": "code",
        "colab": {
          "base_uri": "https://localhost:8080/",
          "height": 123
        },
        "outputId": "cabd3cd6-1bc9-4b2f-c856-d1e04ec249a7"
      },
      "source": [
        "y_train = to_categorical(y_train,noOfClasses)\n",
        "y_validation = to_categorical(y_validation,noOfClasses)\n",
        "y_test = to_categorical(y_test,noOfClasses)\n",
        "\n",
        "print(y_train.shape)\n",
        "print(y_test.shape)\n",
        "print(y_validation.shape)\n",
        "print(y_train[0])\n",
        "print(y_test[0])\n",
        "print(y_validation[0])"
      ],
      "execution_count": null,
      "outputs": [
        {
          "output_type": "stream",
          "text": [
            "(8913, 13)\n",
            "(2786, 13)\n",
            "(2229, 13)\n",
            "[0. 0. 1. 0. 0. 0. 0. 0. 0. 0. 0. 0. 0.]\n",
            "[0. 0. 0. 0. 0. 0. 0. 0. 1. 0. 0. 0. 0.]\n",
            "[0. 0. 0. 0. 0. 1. 0. 0. 0. 0. 0. 0. 0.]\n"
          ],
          "name": "stdout"
        }
      ]
    },
    {
      "cell_type": "markdown",
      "metadata": {
        "id": "mBXbXS_XFCf4",
        "colab_type": "text"
      },
      "source": [
        "Since keras doesnt know what the input shape of the image is and also since it expects a certain shape, we are reshaping every image (the nd array)"
      ]
    },
    {
      "cell_type": "code",
      "metadata": {
        "id": "SRc9poJzSMUV",
        "colab_type": "code",
        "colab": {
          "base_uri": "https://localhost:8080/",
          "height": 70
        },
        "outputId": "69be754c-0dac-4885-9599-f7ba3567c502"
      },
      "source": [
        "if K.image_data_format() == 'channels_first':\n",
        "    X_train = X_train.reshape(X_train.shape[0], 1, 32, 32)\n",
        "    X_test = X_test.reshape(X_test.shape[0], 1, 32, 32)\n",
        "    X_validation=X_validation.reshape(X_validation.shape[0], 1, 32, 32)\n",
        "    print(Xtrain.shape)\n",
        "    input_shape = (1, 32, 32)\n",
        "else:\n",
        "    X_train = X_train.reshape(X_train.shape[0], 32, 32, 1)\n",
        "    X_test = X_test.reshape(X_test.shape[0], 32, 32, 1)\n",
        "    X_validation=X_validation.reshape(X_validation.shape[0], 32, 32, 1)\n",
        "    input_shape = (32, 32, 1)\n",
        "    \n",
        "#to test\n",
        "print(X_train.shape)\n",
        "print(X_test.shape)\n",
        "print(X_validation.shape)"
      ],
      "execution_count": null,
      "outputs": [
        {
          "output_type": "stream",
          "text": [
            "(8913, 32, 32, 1)\n",
            "(2786, 32, 32, 1)\n",
            "(2229, 32, 32, 1)\n"
          ],
          "name": "stdout"
        }
      ]
    },
    {
      "cell_type": "markdown",
      "metadata": {
        "id": "TY-iGVknGC4x",
        "colab_type": "text"
      },
      "source": [
        "We have defined two models here, we used the second"
      ]
    },
    {
      "cell_type": "code",
      "metadata": {
        "colab_type": "code",
        "id": "fQwOzGettpWD",
        "colab": {
          "base_uri": "https://localhost:8080/",
          "height": 1000
        },
        "outputId": "d669ef0c-7701-4a15-d9c2-60837ebad44c"
      },
      "source": [
        "def model2():\n",
        "  model = Sequential()\n",
        "  model.add(Conv2D(64, kernel_size=5, padding='same', activation='relu', input_shape=(32, 32, 1)))\n",
        "  model.add(MaxPool2D(pool_size=2))\n",
        "  model.add(Conv2D(64, kernel_size=5, padding='same', activation='relu', input_shape=(32, 32, 1)))\n",
        "  model.add(MaxPool2D(pool_size=2))\n",
        "  model.add(Conv2D(128, kernel_size=5, padding='same', activation='relu', input_shape=(32, 32, 1)))\n",
        "  model.add(MaxPool2D(pool_size=2))\n",
        "  model.add(Flatten())\n",
        "  model.add(Dense(500, activation='relu'))\n",
        "  model.add(Dense(13, activation='softmax'))\n",
        "\n",
        "  model.compile(optimizer='adam', loss='categorical_crossentropy', metrics=['accuracy'])\n",
        "  return model\n",
        "\n",
        "annealer = LearningRateScheduler(lambda x: 1e-3 * 0.95 ** (x + epochs))\n",
        "epochs = 15\n",
        "model=model2()\n",
        "print(model.summary())\n",
        "\n",
        "h = model.fit(X_train, y_train,\n",
        "              batch_size=16, epochs = epochs,\n",
        "              validation_data = (X_validation, y_validation),\n",
        "              callbacks=[annealer], verbose=1)\n",
        "\n",
        "# STORE THE MODEL AS A PICKLE OBJECT\n",
        "pickle_out= open(\"model_trained_new.p\",\"wb\")  # wb = WRITE BYTE\n",
        "pickle.dump(model,pickle_out)\n",
        "pickle_out.close()"
      ],
      "execution_count": null,
      "outputs": [
        {
          "output_type": "stream",
          "text": [
            "Model: \"sequential_4\"\n",
            "_________________________________________________________________\n",
            "Layer (type)                 Output Shape              Param #   \n",
            "=================================================================\n",
            "conv2d_13 (Conv2D)           (None, 32, 32, 64)        1664      \n",
            "_________________________________________________________________\n",
            "max_pooling2d_7 (MaxPooling2 (None, 16, 16, 64)        0         \n",
            "_________________________________________________________________\n",
            "conv2d_14 (Conv2D)           (None, 16, 16, 64)        102464    \n",
            "_________________________________________________________________\n",
            "max_pooling2d_8 (MaxPooling2 (None, 8, 8, 64)          0         \n",
            "_________________________________________________________________\n",
            "conv2d_15 (Conv2D)           (None, 8, 8, 128)         204928    \n",
            "_________________________________________________________________\n",
            "max_pooling2d_9 (MaxPooling2 (None, 4, 4, 128)         0         \n",
            "_________________________________________________________________\n",
            "flatten_4 (Flatten)          (None, 2048)              0         \n",
            "_________________________________________________________________\n",
            "dense_7 (Dense)              (None, 500)               1024500   \n",
            "_________________________________________________________________\n",
            "dense_8 (Dense)              (None, 13)                6513      \n",
            "=================================================================\n",
            "Total params: 1,340,069\n",
            "Trainable params: 1,340,069\n",
            "Non-trainable params: 0\n",
            "_________________________________________________________________\n",
            "None\n",
            "Train on 8913 samples, validate on 2229 samples\n",
            "Epoch 1/15\n",
            "8913/8913 [==============================] - 4s 481us/step - loss: 1.3531 - acc: 0.5228 - val_loss: 0.7448 - val_acc: 0.7160\n",
            "Epoch 2/15\n",
            "8913/8913 [==============================] - 3s 367us/step - loss: 0.3105 - acc: 0.8979 - val_loss: 0.5011 - val_acc: 0.8017\n",
            "Epoch 3/15\n",
            "8913/8913 [==============================] - 3s 367us/step - loss: 0.1550 - acc: 0.9534 - val_loss: 0.1521 - val_acc: 0.9466\n",
            "Epoch 4/15\n",
            "8913/8913 [==============================] - 3s 370us/step - loss: 0.0511 - acc: 0.9852 - val_loss: 0.1065 - val_acc: 0.9668\n",
            "Epoch 5/15\n",
            "8913/8913 [==============================] - 3s 373us/step - loss: 0.0211 - acc: 0.9954 - val_loss: 0.1206 - val_acc: 0.9646\n",
            "Epoch 6/15\n",
            "8913/8913 [==============================] - 3s 371us/step - loss: 0.0173 - acc: 0.9960 - val_loss: 0.0726 - val_acc: 0.9776\n",
            "Epoch 7/15\n",
            "8913/8913 [==============================] - 3s 385us/step - loss: 0.0247 - acc: 0.9935 - val_loss: 0.0594 - val_acc: 0.9825\n",
            "Epoch 8/15\n",
            "8913/8913 [==============================] - 3s 375us/step - loss: 0.0104 - acc: 0.9971 - val_loss: 0.0465 - val_acc: 0.9856\n",
            "Epoch 9/15\n",
            "8913/8913 [==============================] - 3s 367us/step - loss: 0.0152 - acc: 0.9958 - val_loss: 0.0853 - val_acc: 0.9735\n",
            "Epoch 10/15\n",
            "8913/8913 [==============================] - 3s 373us/step - loss: 0.0072 - acc: 0.9982 - val_loss: 0.0861 - val_acc: 0.9740\n",
            "Epoch 11/15\n",
            "8913/8913 [==============================] - 3s 372us/step - loss: 0.0031 - acc: 0.9996 - val_loss: 0.0377 - val_acc: 0.9892\n",
            "Epoch 12/15\n",
            "8913/8913 [==============================] - 3s 372us/step - loss: 2.0973e-04 - acc: 1.0000 - val_loss: 0.0335 - val_acc: 0.9924\n",
            "Epoch 13/15\n",
            "8913/8913 [==============================] - 3s 366us/step - loss: 1.0384e-04 - acc: 1.0000 - val_loss: 0.0334 - val_acc: 0.9924\n",
            "Epoch 14/15\n",
            "8913/8913 [==============================] - 3s 369us/step - loss: 7.1046e-05 - acc: 1.0000 - val_loss: 0.0330 - val_acc: 0.9919\n",
            "Epoch 15/15\n",
            "8913/8913 [==============================] - 3s 377us/step - loss: 5.2749e-05 - acc: 1.0000 - val_loss: 0.0328 - val_acc: 0.9910\n"
          ],
          "name": "stdout"
        }
      ]
    },
    {
      "cell_type": "markdown",
      "metadata": {
        "id": "Y77cvhnkGPnn",
        "colab_type": "text"
      },
      "source": [
        "To print the accuracy"
      ]
    },
    {
      "cell_type": "code",
      "metadata": {
        "colab_type": "code",
        "id": "bPIWrt2WtpVs",
        "colab": {
          "base_uri": "https://localhost:8080/",
          "height": 35
        },
        "outputId": "c2f07cd6-6b63-4997-8e20-a157ec66d509"
      },
      "source": [
        "print('Epochs={0:d}, training accuracy={1:.5f}, validation accuracy={2:.5f}'.\\\n",
        "      format(epochs, max(h.history['acc']), max(h.history['val_acc'])))"
      ],
      "execution_count": null,
      "outputs": [
        {
          "output_type": "stream",
          "text": [
            "Epochs=15, training accuracy=1.00000, validation accuracy=0.99237\n"
          ],
          "name": "stdout"
        }
      ]
    },
    {
      "cell_type": "markdown",
      "metadata": {
        "id": "Vd2ZguKWHCST",
        "colab_type": "text"
      },
      "source": [
        "[It is advised that you download the model that is saved in the block of code above and run this in jupyter notebook or another local host. because it is better to have these audio files in local device for the next part of the code.] This part of the code is to save in the local device, the label audio using gTTS (credits to Sai Manish)"
      ]
    },
    {
      "cell_type": "code",
      "metadata": {
        "id": "0L8cfGR-HC6T",
        "colab_type": "code",
        "colab": {}
      },
      "source": [
        "import pandas as pd\n",
        "import os\n",
        "from pygame import mixer\n",
        "from gtts import gTTS\n",
        "\n",
        "def label_text(file):\n",
        "    # Defining list for saving label in order from 0 to 42\n",
        "    label_list = []\n",
        "     # Reading 'csv' file and getting image's labels\n",
        "    r = pd.read_csv(file)\n",
        "    # Going through all names\n",
        "    for name in r['SignName']:\n",
        "        # Adding from every row second column with name of the label\n",
        "        label_list.append(name)\n",
        "    \n",
        "    # Returning resulted list with labels\n",
        "    return label_list\n",
        "\n",
        "\n",
        "# Getting labels\n",
        "labels = label_text(r\"C:\\Users\\Meghana Rao\\Desktop\\sih\\label_names.csv\")\n",
        "\n",
        "\n",
        "# Used for indexing\n",
        "n=range(0,12)\n",
        "#Creation of mp3 files and going all labels\n",
        "for i in n:\n",
        "    tts=gTTS(text=labels[i],lang='en-us')\n",
        "    tts.save('lable'+str(i)+'.mp3')\n",
        "#Playing the audio message\n",
        "mixer.init()"
      ],
      "execution_count": null,
      "outputs": []
    },
    {
      "cell_type": "markdown",
      "metadata": {
        "id": "YGEfZ9HZGYyO",
        "colab_type": "text"
      },
      "source": [
        "This part of the code doesnt work if you are using google colab because it cannot access your laptops webcam.\n"
      ]
    },
    {
      "cell_type": "code",
      "metadata": {
        "id": "IYbZLUjjJDce",
        "colab_type": "code",
        "colab": {}
      },
      "source": [
        "import numpy as np\n",
        "import cv2\n",
        "import pickle\n",
        "import pandas as pd\n",
        "import time\n",
        "from pygame import mixer\n",
        "import os\n",
        "\n",
        "frameWidth= 640         # CAMERA RESOLUTION\n",
        "frameHeight = 480\n",
        "brightness = 180\n",
        "threshold = 0.90         # PROBABLITY THRESHOLD\n",
        "font = cv2.FONT_HERSHEY_SIMPLEX\n",
        "\n",
        "# SETUP THE VIDEO CAMERA\n",
        "cap = cv2.VideoCapture(0)\n",
        "cap.set(3, frameWidth)\n",
        "cap.set(4, frameHeight)\n",
        "cap.set(10, brightness)\n",
        "# IMPORT THE TRANNIED MODEL\n",
        "pickle_in=open(\"model_trained_new.p\",\"rb\")  ## rb = READ BYTE\n",
        "model=pickle.load(pickle_in)\n",
        "def label_text(file):\n",
        "    # Defining list for saving label in order from 0 to 12\n",
        "    label_list = []\n",
        "     # Reading 'csv' file and getting image's labels\n",
        "    r = pd.read_csv(file)\n",
        "    # Going through all names\n",
        "    for name in r['SignName']:\n",
        "        # Adding from every row second column with name of the label\n",
        "        label_list.append(name)\n",
        "    \n",
        "    # Returning resulted list with labels\n",
        "    return label_list\n",
        "labels = label_text(r\"C:\\Users\\Meghana Rao\\Desktop\\sih\\label_names.csv\")\n",
        "\n",
        "def grayscale(img):\n",
        "    img = cv2.cvtColor(img,cv2.COLOR_BGR2GRAY)\n",
        "    return img\n",
        "def equalize(img):\n",
        "    img =cv2.equalizeHist(img)\n",
        "    return img\n",
        "def preprocessing(img):\n",
        "    img = grayscale(img)\n",
        "    img = equalize(img)\n",
        "    img = img/255\n",
        "    return img\n",
        "def getAudio(classNo):\n",
        "    mixer.init()\n",
        "    print(\"class: \"+labels[int(classNo)])\n",
        "    mixer.music.load('lable'+str(int(classNo))+'.mp3')\n",
        "    mixer.music.play()\n",
        "\n",
        "while True:\n",
        "\n",
        "    # READ IMAGE\n",
        "    success, imgOrignal = cap.read()\n",
        "\n",
        "    # PROCESS IMAGE\n",
        "    img = np.asarray(imgOrignal)\n",
        "    img = cv2.resize(img, (32, 32))\n",
        "    img = preprocessing(img)\n",
        "    cv2.imshow(\"Processed Image\", img)\n",
        "    img = img.reshape(1, 32, 32, 1)\n",
        "    cv2.putText(imgOrignal, \"CLASS: \" , (20, 35), font, 0.75, (0, 0, 255), 2, cv2.LINE_AA)\n",
        "    cv2.putText(imgOrignal, \"PROBABILITY: \", (20, 75), font, 0.75, (0, 0, 255), 2, cv2.LINE_AA)\n",
        "    # PREDICT IMAGE\n",
        "    predictions = model.predict(img)\n",
        "    classIndex = model.predict_classes(img)\n",
        "    probabilityValue =np.amax(predictions)\n",
        "    if probabilityValue > threshold:\n",
        "        getAudio(classIndex)\n",
        "        cv2.putText(imgOrignal,str(classIndex), (120, 35), font, 0.75, (0, 0, 255), 2, cv2.LINE_AA)\n",
        "        cv2.putText(imgOrignal, str(round(probabilityValue*100,2) )+\"%\", (180, 75), font, 0.75, (0, 0, 255), 2, cv2.LINE_AA)\n",
        "        time.sleep(2)\n",
        "    cv2.imshow(\"SIH PROJECT\", imgOrignal)\n",
        "\n",
        "    if cv2.waitKey(1) & 0xFF == ord('q'):\n",
        "        break"
      ],
      "execution_count": null,
      "outputs": []
    }
  ]
}